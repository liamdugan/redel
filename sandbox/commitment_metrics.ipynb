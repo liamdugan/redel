{
 "cells": [
  {
   "metadata": {},
   "cell_type": "markdown",
   "source": "Heuristically counting overcommitment/undercommitment rate from the experiments.",
   "id": "4a8d67b994e76249"
  },
  {
   "cell_type": "code",
   "id": "initial_id",
   "metadata": {
    "collapsed": true
   },
   "source": [
    "from pathlib import Path\n",
    "\n",
    "from redel.utils import read_jsonl\n",
    "\n",
    "# define base experiments path\n",
    "EXPERIMENTS = Path(\"/Users/andrew/Desktop/Code/kanpai/experiments\")\n",
    "\n",
    "\n",
    "def is_overcommitted(fp, overcommitment_threshold):\n",
    "    \"\"\"A system is overcommitted if it has <= overcommitment_threshold nodes\"\"\"\n",
    "    with open(fp) as f:\n",
    "        state = json.load(f)\n",
    "    return len(state[\"state\"]) <= overcommitment_threshold\n",
    "\n",
    "\n",
    "def is_undercommitted(fp, undercommitment_threshold):\n",
    "    \"\"\"A system is undercommitted if it has any undercommitment_threshold len chain of nodes with 0 or 1 children\"\"\"\n",
    "    with open(fp) as f:\n",
    "        state = json.load(f)\n",
    "\n",
    "    nodes = {node[\"id\"]: node for node in state[\"state\"]}\n",
    "    root = next(node for node in state[\"state\"] if node[\"depth\"] == 0)\n",
    "\n",
    "    # DFS into each node, when reaching leaf mark as T/F if accumulated 1-child parents >= undercommitment_threshold\n",
    "    # then every node's T/F value = any(children)\n",
    "    # return root node's value\n",
    "    def uc_search(node, chain):\n",
    "        is_chain = len(node[\"children\"]) <= 1\n",
    "        if not node[\"children\"]:\n",
    "            return chain + 1 >= undercommitment_threshold\n",
    "\n",
    "        is_uc = False\n",
    "        for child_id in node[\"children\"]:\n",
    "            child = nodes[child_id]\n",
    "            is_uc = is_uc or uc_search(child, chain + 1 if is_chain else 0)\n",
    "        return is_uc\n",
    "\n",
    "    return uc_search(root, 0)"
   ],
   "outputs": [],
   "execution_count": null
  },
  {
   "metadata": {},
   "cell_type": "code",
   "source": [
    "import json\n",
    "\n",
    "\n",
    "def count_system(fp, overcommitment_threshold=2, undercommitment_threshold=3):\n",
    "    if not fp.exists():\n",
    "        return\n",
    "    # get all state paths in system\n",
    "    state_paths = []\n",
    "    for result in read_jsonl(fp / \"results.jsonl\"):\n",
    "        state_paths.append(fp / Path(result[\"log_dir\"]).stem / \"state.json\")\n",
    "\n",
    "    n = len(state_paths)\n",
    "    oc_count = 0\n",
    "    uc_count = 0\n",
    "    for state_path in state_paths:\n",
    "        if is_overcommitted(state_path, overcommitment_threshold):\n",
    "            oc_count += 1\n",
    "        if is_undercommitted(state_path, undercommitment_threshold):\n",
    "            uc_count += 1\n",
    "\n",
    "    print(f\"========== {fp} ==========\")\n",
    "    print(f\"Overcommitment rate: {oc_count / n} ({oc_count} / {n})\")\n",
    "    print(f\"Undercommitment rate: {uc_count / n} ({uc_count} / {n})\")\n",
    "    return oc_count, uc_count, n"
   ],
   "id": "ef27edcba63c966a",
   "outputs": [],
   "execution_count": null
  },
  {
   "metadata": {},
   "cell_type": "code",
   "source": [
    "fo_oc, fo_uc, fo_n = count_system(EXPERIMENTS / Path(\"fanoutqa/dev/trial2/full\"))\n",
    "tp_oc, tp_uc, tp_n = count_system(EXPERIMENTS / Path(\"travelplanner/validation/full\"))\n",
    "wa_oc, wa_uc, wa_n = count_system(EXPERIMENTS / Path(\"webarena/test/full\"))"
   ],
   "id": "850b6dd52571f5ca",
   "outputs": [],
   "execution_count": null
  },
  {
   "metadata": {},
   "cell_type": "code",
   "source": [
    "oc_total = fo_oc + tp_oc + wa_oc\n",
    "uc_total = fo_uc + tp_uc + wa_uc\n",
    "n_total = fo_n + tp_n + wa_n\n",
    "\n",
    "print(f\"Total overcommitment rate: {oc_total / n_total} ({oc_total} / {n_total})\")\n",
    "print(f\"Total undercommitment rate: {uc_total / n_total} ({uc_total} / {n_total})\")"
   ],
   "id": "47fef150993f75f2",
   "outputs": [],
   "execution_count": null
  },
  {
   "metadata": {},
   "cell_type": "code",
   "source": [
    "for system in [\n",
    "    \"full\",\n",
    "    # \"root-fc\",\n",
    "    # \"baseline\",\n",
    "    \"small-leaf\",\n",
    "    # \"small-all\",\n",
    "    # \"small-baseline\",\n",
    "    # \"short-context\",\n",
    "    # \"short-baseline\",\n",
    "]:\n",
    "    for benchmark in [\"fanoutqa/dev/trial2\", \"travelplanner/validation\", \"webarena/test\"]:\n",
    "        oc, uc, n = count_system(EXPERIMENTS / benchmark / system)"
   ],
   "id": "47abc1c7359a1263",
   "outputs": [],
   "execution_count": null
  },
  {
   "metadata": {},
   "cell_type": "code",
   "source": "",
   "id": "3c2bbe7795269ede",
   "outputs": [],
   "execution_count": null
  }
 ],
 "metadata": {
  "kernelspec": {
   "display_name": "Python 3",
   "language": "python",
   "name": "python3"
  },
  "language_info": {
   "codemirror_mode": {
    "name": "ipython",
    "version": 2
   },
   "file_extension": ".py",
   "mimetype": "text/x-python",
   "name": "python",
   "nbconvert_exporter": "python",
   "pygments_lexer": "ipython2",
   "version": "2.7.6"
  }
 },
 "nbformat": 4,
 "nbformat_minor": 5
}
