{
 "cells": [
  {
   "metadata": {},
   "cell_type": "markdown",
   "source": "Messy code for counting tokens from the experiments.",
   "id": "4a8d67b994e76249"
  },
  {
   "cell_type": "code",
   "id": "initial_id",
   "metadata": {
    "collapsed": true
   },
   "source": [
    "from collections import Counter\n",
    "\n",
    "from redel.utils import read_jsonl\n",
    "\n",
    "\n",
    "# from the docs\n",
    "def count_tokens(fp):\n",
    "    tokens_used_prompt = Counter()\n",
    "    tokens_used_output = Counter()\n",
    "    for event in read_jsonl(fp):\n",
    "        if event[\"type\"] == \"tokens_used\":\n",
    "            tokens_used_prompt[event[\"id\"]] += event[\"prompt_tokens\"]\n",
    "            tokens_used_output[event[\"id\"]] += event[\"completion_tokens\"]\n",
    "    return tokens_used_prompt, tokens_used_output"
   ],
   "outputs": [],
   "execution_count": null
  },
  {
   "metadata": {},
   "cell_type": "code",
   "source": [
    "from pathlib import Path\n",
    "\n",
    "# define base experiments path\n",
    "EXPERIMENTS = Path(\"/Users/andrew/Desktop/Code/kanpai/experiments\")"
   ],
   "id": "2cf069ad681dfd06",
   "outputs": [],
   "execution_count": null
  },
  {
   "metadata": {},
   "cell_type": "code",
   "source": [
    "import json\n",
    "\n",
    "\n",
    "def count_system(fp, root_input_cost_1m, root_output_cost_1m, del_input_cost_1m=0, del_output_cost_1m=0):\n",
    "    if not fp.exists():\n",
    "        return 0, 0\n",
    "    # get all event paths in system\n",
    "    event_paths = []\n",
    "    for result in read_jsonl(fp / \"results.jsonl\"):\n",
    "        event_paths.append(fp / Path(result[\"log_dir\"]).stem / \"events.jsonl\")\n",
    "\n",
    "    n = len(event_paths)\n",
    "    total_prompt_tokens_root = 0\n",
    "    total_output_tokens_root = 0\n",
    "    total_prompt_tokens_del = 0\n",
    "    total_output_tokens_del = 0\n",
    "    # for each run,\n",
    "    for ep in event_paths:\n",
    "        # find the root node ID\n",
    "        with open(ep.parent / \"state.json\") as f:\n",
    "            state = json.load(f)\n",
    "            root_id = state[\"state\"][0][\"id\"]\n",
    "\n",
    "        # count tokens by root and by del\n",
    "        prompt_tokens, output_tokens = count_tokens(ep)\n",
    "        prompt_tokens_root = prompt_tokens[root_id]\n",
    "        output_tokens_root = output_tokens[root_id]\n",
    "\n",
    "        total_prompt_tokens_root += prompt_tokens_root\n",
    "        total_output_tokens_root += output_tokens_root\n",
    "        total_prompt_tokens_del += prompt_tokens.total() - prompt_tokens_root\n",
    "        total_output_tokens_del += output_tokens.total() - output_tokens_root\n",
    "\n",
    "    # m a t h\n",
    "    # (I should have used a dict but I did this in like 10 minutes don't judge me)\n",
    "    avg_prompt_tokens_root = total_prompt_tokens_root / n\n",
    "    avg_output_tokens_root = total_output_tokens_root / n\n",
    "    avg_prompt_tokens_del = total_prompt_tokens_del / n\n",
    "    avg_output_tokens_del = total_output_tokens_del / n\n",
    "\n",
    "    avg_prompt_cost_root = avg_prompt_tokens_root * root_input_cost_1m / 1000000\n",
    "    avg_output_cost_root = avg_output_tokens_root * root_output_cost_1m / 1000000\n",
    "    avg_prompt_cost_del = avg_prompt_tokens_del * del_input_cost_1m / 1000000\n",
    "    avg_output_cost_del = avg_output_tokens_del * del_output_cost_1m / 1000000\n",
    "\n",
    "    total_cost = (avg_prompt_cost_root + avg_output_cost_root + avg_prompt_cost_del + avg_output_cost_del) * n\n",
    "\n",
    "    print(f\"========== {fp} ==========\")\n",
    "    print(f\"Avg prompt tokens root: {avg_prompt_tokens_root} (${avg_prompt_cost_root})\")\n",
    "    print(f\"Avg output tokens root: {avg_output_tokens_root} (${avg_output_cost_root})\")\n",
    "    print(f\"Avg prompt tokens del: {avg_prompt_tokens_del} (${avg_prompt_cost_del})\")\n",
    "    print(f\"Avg output tokens del: {avg_output_tokens_del} (${avg_output_cost_del})\")\n",
    "    print(f\"N: {n}\")\n",
    "    print(f\"Total cost: ${total_cost}\")\n",
    "\n",
    "    return total_cost, n"
   ],
   "id": "ef27edcba63c966a",
   "outputs": [],
   "execution_count": null
  },
  {
   "metadata": {},
   "cell_type": "code",
   "source": [
    "count_system(\n",
    "    EXPERIMENTS / Path(\"fanoutqa/dev/trial2/small-leaf\"),\n",
    "    root_input_cost_1m=5,\n",
    "    root_output_cost_1m=15,\n",
    "    del_input_cost_1m=0.5,\n",
    "    del_output_cost_1m=1.5,\n",
    ")\n",
    "count_system(\n",
    "    EXPERIMENTS / Path(\"travelplanner/validation/small-leaf\"),\n",
    "    root_input_cost_1m=5,\n",
    "    root_output_cost_1m=15,\n",
    "    del_input_cost_1m=0.5,\n",
    "    del_output_cost_1m=1.5,\n",
    ")\n",
    "count_system(\n",
    "    EXPERIMENTS / Path(\"webarena/test/small-leaf\"),\n",
    "    root_input_cost_1m=5,\n",
    "    root_output_cost_1m=15,\n",
    "    del_input_cost_1m=0.5,\n",
    "    del_output_cost_1m=1.5,\n",
    ")"
   ],
   "id": "8d9fb5df40fe9ebd",
   "outputs": [],
   "execution_count": null
  },
  {
   "metadata": {},
   "cell_type": "code",
   "source": [
    "count_system(EXPERIMENTS / Path(\"fanoutqa/dev/trial2/baseline\"), root_input_cost_1m=5, root_output_cost_1m=15)\n",
    "count_system(EXPERIMENTS / Path(\"travelplanner/validation/baseline\"), root_input_cost_1m=5, root_output_cost_1m=15)\n",
    "count_system(EXPERIMENTS / Path(\"webarena/test/baseline\"), root_input_cost_1m=5, root_output_cost_1m=15)"
   ],
   "id": "43d244405b77aaf",
   "outputs": [],
   "execution_count": null
  },
  {
   "metadata": {},
   "cell_type": "code",
   "source": [
    "total_cost_small_leaf = 9.200377 + 11.0021565 + 98.039051\n",
    "total_cost_baseline = 102.65177 + 41.63858 + 184.745045\n",
    "print(total_cost_small_leaf, total_cost_baseline)"
   ],
   "id": "b6e7ff5b75d16830",
   "outputs": [],
   "execution_count": null
  },
  {
   "metadata": {},
   "cell_type": "code",
   "source": "329.035395 / 118.2415845",
   "id": "a1e862851a0c14b3",
   "outputs": [],
   "execution_count": null
  },
  {
   "metadata": {},
   "cell_type": "code",
   "source": [
    "costs_by_system = {\n",
    "    \"full\": (5, 15, 5, 15),\n",
    "    \"root-fc\": (5, 15, 5, 15),\n",
    "    \"baseline\": (5, 15, 0, 0),\n",
    "    \"small-leaf\": (5, 15, 0.5, 1.5),\n",
    "    \"small-all\": (0.5, 1.5, 0.5, 1.5),\n",
    "    \"small-baseline\": (0.5, 1.5, 0, 0),\n",
    "    \"short-context\": (5, 15, 5, 15),\n",
    "    \"short-baseline\": (5, 15, 0, 0),\n",
    "}\n",
    "\n",
    "for system in [\n",
    "    \"full\",\n",
    "    \"root-fc\",\n",
    "    \"baseline\",\n",
    "    \"small-leaf\",\n",
    "    \"small-all\",\n",
    "    \"small-baseline\",\n",
    "    \"short-context\",\n",
    "    \"short-baseline\",\n",
    "]:\n",
    "    benchmark_cost = 0\n",
    "    for benchmark in [\"fanoutqa/dev/trial2\", \"travelplanner/validation\", \"webarena/test\"]:\n",
    "        root_in_cost, root_out_cost, del_in_cost, del_out_cost = costs_by_system[system]\n",
    "        total_cost, _ = count_system(\n",
    "            EXPERIMENTS / benchmark / system,\n",
    "            root_input_cost_1m=root_in_cost,\n",
    "            root_output_cost_1m=root_out_cost,\n",
    "            del_input_cost_1m=del_in_cost,\n",
    "            del_output_cost_1m=del_out_cost,\n",
    "        )\n",
    "        benchmark_cost += total_cost\n",
    "    print(f\"TOTAL SYSTEM COST: ${benchmark_cost}\")"
   ],
   "id": "3d0f0e35280b23b3",
   "outputs": [],
   "execution_count": null
  },
  {
   "metadata": {},
   "cell_type": "code",
   "source": "",
   "id": "593cf8ffb8b7c38a",
   "outputs": [],
   "execution_count": null
  }
 ],
 "metadata": {
  "kernelspec": {
   "display_name": "Python 3",
   "language": "python",
   "name": "python3"
  },
  "language_info": {
   "codemirror_mode": {
    "name": "ipython",
    "version": 2
   },
   "file_extension": ".py",
   "mimetype": "text/x-python",
   "name": "python",
   "nbconvert_exporter": "python",
   "pygments_lexer": "ipython2",
   "version": "2.7.6"
  }
 },
 "nbformat": 4,
 "nbformat_minor": 5
}
