{
 "cells": [
  {
   "metadata": {},
   "cell_type": "markdown",
   "source": "Messy code for counting tokens from the experiments.",
   "id": "4a8d67b994e76249"
  },
  {
   "cell_type": "code",
   "id": "initial_id",
   "metadata": {
    "collapsed": true,
    "ExecuteTime": {
     "end_time": "2024-07-24T22:28:40.204911Z",
     "start_time": "2024-07-24T22:28:39.970516Z"
    }
   },
   "source": [
    "from collections import Counter\n",
    "\n",
    "from redel.utils import read_jsonl\n",
    "\n",
    "\n",
    "# from the docs\n",
    "def count_tokens(fp):\n",
    "    tokens_used_prompt = Counter()\n",
    "    tokens_used_output = Counter()\n",
    "    for event in read_jsonl(fp):\n",
    "        if event[\"type\"] == \"tokens_used\":\n",
    "            tokens_used_prompt[event[\"id\"]] += event[\"prompt_tokens\"]\n",
    "            tokens_used_output[event[\"id\"]] += event[\"completion_tokens\"]\n",
    "    return tokens_used_prompt, tokens_used_output"
   ],
   "outputs": [],
   "execution_count": 1
  },
  {
   "metadata": {
    "ExecuteTime": {
     "end_time": "2024-07-24T22:41:29.827062Z",
     "start_time": "2024-07-24T22:41:29.824011Z"
    }
   },
   "cell_type": "code",
   "source": [
    "from pathlib import Path\n",
    "\n",
    "# define base experiments path\n",
    "EXPERIMENTS = Path(\"/Users/andrew/Desktop/Code/kanpai/experiments\")"
   ],
   "id": "2cf069ad681dfd06",
   "outputs": [],
   "execution_count": 6
  },
  {
   "metadata": {
    "ExecuteTime": {
     "end_time": "2024-07-24T22:45:35.822956Z",
     "start_time": "2024-07-24T22:45:35.819341Z"
    }
   },
   "cell_type": "code",
   "source": [
    "import json\n",
    "\n",
    "\n",
    "def count_system(fp, root_input_cost_1m, root_output_cost_1m, del_input_cost_1m=0, del_output_cost_1m=0):\n",
    "    if not fp.exists():\n",
    "        return\n",
    "    # get all event paths in system\n",
    "    event_paths = []\n",
    "    for result in read_jsonl(fp / \"results.jsonl\"):\n",
    "        event_paths.append(fp / Path(result[\"log_dir\"]).stem / \"events.jsonl\")\n",
    "\n",
    "    n = len(event_paths)\n",
    "    total_prompt_tokens_root = 0\n",
    "    total_output_tokens_root = 0\n",
    "    total_prompt_tokens_del = 0\n",
    "    total_output_tokens_del = 0\n",
    "    # for each run,\n",
    "    for ep in event_paths:\n",
    "        # find the root node ID\n",
    "        with open(ep.parent / \"state.json\") as f:\n",
    "            state = json.load(f)\n",
    "            root_id = state[\"state\"][0][\"id\"]\n",
    "\n",
    "        # count tokens by root and by del\n",
    "        prompt_tokens, output_tokens = count_tokens(ep)\n",
    "        prompt_tokens_root = prompt_tokens[root_id]\n",
    "        output_tokens_root = output_tokens[root_id]\n",
    "\n",
    "        total_prompt_tokens_root += prompt_tokens_root\n",
    "        total_output_tokens_root += output_tokens_root\n",
    "        total_prompt_tokens_del += prompt_tokens.total() - prompt_tokens_root\n",
    "        total_output_tokens_del += output_tokens.total() - output_tokens_root\n",
    "\n",
    "    # m a t h\n",
    "    # (I should have used a dict but I did this in like 10 minutes don't judge me)\n",
    "    avg_prompt_tokens_root = total_prompt_tokens_root / n\n",
    "    avg_output_tokens_root = total_output_tokens_root / n\n",
    "    avg_prompt_tokens_del = total_prompt_tokens_del / n\n",
    "    avg_output_tokens_del = total_output_tokens_del / n\n",
    "\n",
    "    avg_prompt_cost_root = avg_prompt_tokens_root * root_input_cost_1m / 1000000\n",
    "    avg_output_cost_root = avg_output_tokens_root * root_output_cost_1m / 1000000\n",
    "    avg_prompt_cost_del = avg_prompt_tokens_del * del_input_cost_1m / 1000000\n",
    "    avg_output_cost_del = avg_output_tokens_del * del_output_cost_1m / 1000000\n",
    "\n",
    "    print(f\"========== {fp} ==========\")\n",
    "    print(f\"Avg prompt tokens root: {avg_prompt_tokens_root} (${avg_prompt_cost_root})\")\n",
    "    print(f\"Avg output tokens root: {avg_output_tokens_root} (${avg_output_cost_root})\")\n",
    "    print(f\"Avg prompt tokens del: {avg_prompt_tokens_del} (${avg_prompt_cost_del})\")\n",
    "    print(f\"Avg output tokens del: {avg_output_tokens_del} (${avg_output_cost_del})\")\n",
    "    print(f\"N: {n}\")\n",
    "    print(\n",
    "        f\"Total cost: ${(avg_prompt_cost_root + avg_output_cost_root + avg_prompt_cost_del + avg_output_cost_del) * n}\"\n",
    "    )"
   ],
   "id": "ef27edcba63c966a",
   "outputs": [],
   "execution_count": 10
  },
  {
   "metadata": {
    "ExecuteTime": {
     "end_time": "2024-07-24T22:46:32.726219Z",
     "start_time": "2024-07-24T22:46:31.879970Z"
    }
   },
   "cell_type": "code",
   "source": [
    "count_system(\n",
    "    EXPERIMENTS / Path(\"fanoutqa/dev/trial2/small-leaf\"),\n",
    "    root_input_cost_1m=5,\n",
    "    root_output_cost_1m=15,\n",
    "    del_input_cost_1m=0.5,\n",
    "    del_output_cost_1m=1.5,\n",
    ")\n",
    "count_system(\n",
    "    EXPERIMENTS / Path(\"travelplanner/validation/small-leaf\"),\n",
    "    root_input_cost_1m=5,\n",
    "    root_output_cost_1m=15,\n",
    "    del_input_cost_1m=0.5,\n",
    "    del_output_cost_1m=1.5,\n",
    ")\n",
    "count_system(\n",
    "    EXPERIMENTS / Path(\"webarena/test/small-leaf\"),\n",
    "    root_input_cost_1m=5,\n",
    "    root_output_cost_1m=15,\n",
    "    del_input_cost_1m=0.5,\n",
    "    del_output_cost_1m=1.5,\n",
    ")"
   ],
   "id": "8d9fb5df40fe9ebd",
   "outputs": [
    {
     "name": "stdout",
     "output_type": "stream",
     "text": [
      "========== /Users/andrew/Desktop/Code/kanpai/experiments/fanoutqa/dev/trial2/small-leaf ==========\n",
      "Avg prompt tokens root: 1913.8733766233765 ($0.009569366883116883)\n",
      "Avg output tokens root: 363.4642857142857 ($0.0054519642857142865)\n",
      "Avg prompt tokens del: 28171.0 ($0.0140855)\n",
      "Avg output tokens del: 509.6818181818182 ($0.0007645227272727273)\n",
      "N: 308\n",
      "Total cost: $9.200377000000001\n",
      "========== /Users/andrew/Desktop/Code/kanpai/experiments/travelplanner/validation/small-leaf ==========\n",
      "Avg prompt tokens root: 7912.888888888889 ($0.039564444444444444)\n",
      "Avg output tokens root: 1018.7333333333333 ($0.015281)\n",
      "Avg prompt tokens del: 9192.044444444444 ($0.0045960222222222215)\n",
      "Avg output tokens del: 1121.0833333333333 ($0.001681625)\n",
      "N: 180\n",
      "Total cost: $11.0021565\n",
      "========== /Users/andrew/Desktop/Code/kanpai/experiments/webarena/test/small-leaf ==========\n",
      "Avg prompt tokens root: 55456.268 ($0.27728134)\n",
      "Avg output tokens root: 171.884 ($0.0025782599999999998)\n",
      "Avg prompt tokens del: 222370.916 ($0.111185458)\n",
      "Avg output tokens del: 740.764 ($0.001111146)\n",
      "N: 250\n",
      "Total cost: $98.039051\n"
     ]
    }
   ],
   "execution_count": 12
  },
  {
   "metadata": {
    "ExecuteTime": {
     "end_time": "2024-07-24T22:47:03.610771Z",
     "start_time": "2024-07-24T22:47:02.631384Z"
    }
   },
   "cell_type": "code",
   "source": [
    "count_system(EXPERIMENTS / Path(\"fanoutqa/dev/trial2/baseline\"), root_input_cost_1m=5, root_output_cost_1m=15)\n",
    "count_system(EXPERIMENTS / Path(\"travelplanner/validation/baseline\"), root_input_cost_1m=5, root_output_cost_1m=15)\n",
    "count_system(EXPERIMENTS / Path(\"webarena/test/baseline\"), root_input_cost_1m=5, root_output_cost_1m=15)"
   ],
   "id": "43d244405b77aaf",
   "outputs": [
    {
     "name": "stdout",
     "output_type": "stream",
     "text": [
      "========== /Users/andrew/Desktop/Code/kanpai/experiments/fanoutqa/dev/trial2/baseline ==========\n",
      "Avg prompt tokens root: 65899.60586319218 ($0.3294980293159609)\n",
      "Avg output tokens root: 324.8371335504886 ($0.004872557003257329)\n",
      "Avg prompt tokens del: 0.0 ($0.0)\n",
      "Avg output tokens del: 0.0 ($0.0)\n",
      "N: 307\n",
      "Total cost: $102.65177\n",
      "========== /Users/andrew/Desktop/Code/kanpai/experiments/travelplanner/validation/baseline ==========\n",
      "Avg prompt tokens root: 42591.40555555555 ($0.21295702777777775)\n",
      "Avg output tokens root: 1224.5611111111111 ($0.01836841666666667)\n",
      "Avg prompt tokens del: 0.0 ($0.0)\n",
      "Avg output tokens del: 0.0 ($0.0)\n",
      "N: 180\n",
      "Total cost: $41.63858\n",
      "========== /Users/andrew/Desktop/Code/kanpai/experiments/webarena/test/baseline ==========\n",
      "Avg prompt tokens root: 145537.47430830039 ($0.727687371541502)\n",
      "Avg output tokens root: 168.6798418972332 ($0.002530197628458498)\n",
      "Avg prompt tokens del: 0.0 ($0.0)\n",
      "Avg output tokens del: 0.0 ($0.0)\n",
      "N: 253\n",
      "Total cost: $184.745045\n"
     ]
    }
   ],
   "execution_count": 13
  },
  {
   "metadata": {
    "ExecuteTime": {
     "end_time": "2024-07-24T22:48:28.853679Z",
     "start_time": "2024-07-24T22:48:28.851411Z"
    }
   },
   "cell_type": "code",
   "source": [
    "total_cost_small_leaf = 9.200377 + 11.0021565 + 98.039051\n",
    "total_cost_baseline = 102.65177 + 41.63858 + 184.745045\n",
    "print(total_cost_small_leaf, total_cost_baseline)"
   ],
   "id": "b6e7ff5b75d16830",
   "outputs": [
    {
     "name": "stdout",
     "output_type": "stream",
     "text": [
      "118.2415845 329.035395\n"
     ]
    }
   ],
   "execution_count": 14
  },
  {
   "metadata": {
    "ExecuteTime": {
     "end_time": "2024-07-24T22:49:18.260883Z",
     "start_time": "2024-07-24T22:49:18.257209Z"
    }
   },
   "cell_type": "code",
   "source": "329.035395 / 118.2415845",
   "id": "a1e862851a0c14b3",
   "outputs": [
    {
     "data": {
      "text/plain": [
       "2.782738377461442"
      ]
     },
     "execution_count": 16,
     "metadata": {},
     "output_type": "execute_result"
    }
   ],
   "execution_count": 16
  },
  {
   "metadata": {},
   "cell_type": "code",
   "outputs": [],
   "execution_count": null,
   "source": "",
   "id": "b7d671a24a015055"
  }
 ],
 "metadata": {
  "kernelspec": {
   "display_name": "Python 3",
   "language": "python",
   "name": "python3"
  },
  "language_info": {
   "codemirror_mode": {
    "name": "ipython",
    "version": 2
   },
   "file_extension": ".py",
   "mimetype": "text/x-python",
   "name": "python",
   "nbconvert_exporter": "python",
   "pygments_lexer": "ipython2",
   "version": "2.7.6"
  }
 },
 "nbformat": 4,
 "nbformat_minor": 5
}
